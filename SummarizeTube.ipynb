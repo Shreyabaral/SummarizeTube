{
  "cells": [
    {
      "cell_type": "markdown",
      "metadata": {
        "id": "view-in-github",
        "colab_type": "text"
      },
      "source": [
        "<a href=\"https://colab.research.google.com/github/Shreyabaral/SummarizeTube/blob/main/SummarizeTube.ipynb\" target=\"_parent\"><img src=\"https://colab.research.google.com/assets/colab-badge.svg\" alt=\"Open In Colab\"/></a>"
      ]
    },
    {
      "cell_type": "code",
      "execution_count": null,
      "metadata": {
        "id": "T5t6IQHlYOr7"
      },
      "outputs": [],
      "source": [
        "import os\n",
        "import streamlit as st\n",
        "from langchain.document_loaders import YoutubeLoader\n",
        "\n",
        "from youtube_transcript_api import YouTubeTranscriptApi\n",
        "from langchain.text_splitter import RecursiveCharacterTextSplitter\n",
        "from langchain.text_splitter import RecursiveCharacterTextSplitter\n",
        "from langchain.chains import LLMChain\n",
        "from langchain.chains.summarize import load_summarize_chain\n",
        "from langchain.llms import HuggingFacePipeline\n",
        "\n",
        "from transformers import AutoTokenizer, AutoModelForCausalLM, pipeline\n",
        "\n",
        "import torch\n",
        "\n",
        "import langchain\n",
        "print(langchain.__version__)"
      ]
    },
    {
      "cell_type": "code",
      "execution_count": null,
      "metadata": {
        "id": "GikIUo1TZRZZ"
      },
      "outputs": [],
      "source": [
        "#get the transcript from the video url\n",
        "def get_transcript(youtube_url):\n",
        "    try:\n",
        "        loader = YoutubeLoader.from_youtube_url(youtube_url)\n",
        "        transcript = loader.load()\n",
        "    except:\n",
        "            # If no transcript is found, raise an exceptionto-\n",
        "            raise Exception(\"No suitable transcript found.\")\n",
        "    return transcript"
      ]
    },
    {
      "cell_type": "code",
      "execution_count": null,
      "metadata": {
        "id": "nstF_agMbHdV"
      },
      "outputs": [],
      "source": [
        "transcript= get_transcript(\"https://www.youtube.com/watch?v=-CmadmM5cOk\")"
      ]
    },
    {
      "cell_type": "code",
      "execution_count": null,
      "metadata": {
        "id": "s4TrmsXjnP7e"
      },
      "outputs": [],
      "source": [
        "new_list= str(transcript).split('.')\n",
        "print(new_list)\n",
        "type(new_list)"
      ]
    },
    {
      "cell_type": "code",
      "execution_count": null,
      "metadata": {
        "id": "adI0yGGIx7I-"
      },
      "outputs": [],
      "source": [
        "!pip install huggingface_hub"
      ]
    },
    {
      "cell_type": "code",
      "execution_count": null,
      "metadata": {
        "id": "30qVLjFOyCD2"
      },
      "outputs": [],
      "source": [
        "# using the huggingface google/flan-t5-base to see its performance\n",
        "\n",
        "from langchain import HuggingFaceHub, LLMChain\n",
        "from langchain import PromptTemplate\n",
        "from transformers import BartForConditionalGeneration, BartTokenizer\n",
        "\n",
        "\n",
        "template = \"\"\"Summarize: {question}\n",
        "\n",
        "Answer: \"\"\"\n",
        "prompt = PromptTemplate(\n",
        "    template=template,\n",
        "\n",
        "    input_variables= [question]\n",
        ")\n",
        "\n",
        "# user question\n",
        "question = input(\"How can I help you today? : \")\n",
        "\n",
        "\n",
        "# initialize Hub LLM\n",
        "hub_llm = HuggingFaceHub(\n",
        "        repo_id='google/flan-t5-base',\n",
        "    model_kwargs={'temperature':1}\n",
        ")\n",
        "\n",
        "# create prompt template > LLM chain\n",
        "llm_chain = LLMChain(\n",
        "    prompt=prompt,\n",
        "    llm=hub_llm\n",
        ")\n",
        "\n",
        "# ask the user question about NFL 2010\n",
        "print(llm_chain.run(question))"
      ]
    },
    {
      "cell_type": "code",
      "execution_count": null,
      "metadata": {
        "id": "KcgNZDAtyORB"
      },
      "outputs": [],
      "source": [
        "#using transformers for summarisation task\n",
        "\n",
        "\n",
        "from transformers import BartForConditionalGeneration, BartTokenizer\n",
        "\n",
        "# Define the template\n",
        "template = \"\"\"Summarize: {question}\n",
        "\n",
        "Answer: {answer}\"\"\"\n",
        "\n",
        "# Define the question\n",
        "question = input(\"How can I help you today?\")\n",
        "\n",
        "# Load the model and tokenizer\n",
        "model_name = \"facebook/bart-large-cnn\"\n",
        "tokenizer = BartTokenizer.from_pretrained(model_name)\n",
        "model = BartForConditionalGeneration.from_pretrained(model_name)\n",
        "\n",
        "# Tokenize the input question\n",
        "input_ids = tokenizer.encode(question, return_tensors=\"pt\", max_length=1024, truncation=True)\n",
        "\n",
        "# Generate the summary\n",
        "summary_ids = model.generate(input_ids, max_length=150, num_beams=4, length_penalty=2.0, early_stopping=True)\n",
        "summary = tokenizer.decode(summary_ids[0], skip_special_tokens=True)\n",
        "\n",
        "# Substitute the question and answer in the template\n",
        "filled_template = template.format(question=question, answer=summary)\n",
        "\n",
        "# Print the result\n",
        "print(summary)"
      ]
    },
    {
      "cell_type": "code",
      "execution_count": null,
      "metadata": {
        "id": "1uE8xqv47s4r"
      },
      "outputs": [],
      "source": [
        "#Using Stremlit for UI"
      ]
    },
    {
      "cell_type": "code",
      "execution_count": null,
      "metadata": {
        "id": "wexOeNCyCufx"
      },
      "outputs": [],
      "source": [
        "%%writefile app.py\n",
        "\n",
        "#import necessary libraries\n",
        "import streamlit as st\n",
        "from transformers import pipeline\n",
        "from transformers import BartForConditionalGeneration, BartTokenizer\n",
        "\n",
        "#define main function for streamlit\n",
        "def main():\n",
        "    st.title(\"Your video summariser\").  #set title for streamlit\n",
        "\n",
        "    # Create a text input for user messages\n",
        "    question = st.text_input(\"You:\", \"\").  #get the youtube video URL\n",
        "\n",
        "    if question:                           #checks if user has entered the question\n",
        "        # Generate a response\n",
        "        response = generate_response(question).        # generates the response base on defined function\n",
        "\n",
        "        # Display the bot's response\n",
        "        st.text_area(\"Bot:\", response, height=100).     #Displays the response in text area\n",
        "\n",
        "\n",
        "#fucntion to genrate the response using  Language Model\n",
        "def generate_response(question):\n",
        "\n",
        "    # Define the template for formatting response\n",
        "    template = \"\"\"summarize_with_langchain_and_openai {question}\n",
        "\n",
        "    Answer: {answer}\"\"\"\n",
        "\n",
        "\n",
        "    # set the input\n",
        "    question = question\n",
        "\n",
        "    # Load the pre-trained model and tokenizer\n",
        "    model_name = \"facebook/bart-large-cnn\"\n",
        "    tokenizer = BartTokenizer.from_pretrained(model_name)\n",
        "    model = BartForConditionalGeneration.from_pretrained(model_name)\n",
        "\n",
        "    # Tokenize the input question\n",
        "    input_ids = tokenizer.encode(question, return_tensors=\"pt\", max_length=1500, truncation=True)\n",
        "\n",
        "    # Generate the summary using the model\n",
        "    summary_ids = model.generate(input_ids, max_length=500, num_beams=4, length_penalty=1.0, early_stopping=True)\n",
        "    summary = tokenizer.decode(summary_ids[0], skip_special_tokens=True)\n",
        "\n",
        "    return summary\n",
        "\n",
        "if __name__ == \"__main__\":\n",
        "    main()\n",
        "\n"
      ]
    },
    {
      "cell_type": "code",
      "execution_count": null,
      "metadata": {
        "id": "uRPZcMnlC8WO"
      },
      "outputs": [],
      "source": [
        "## Install the 'localtunnel' package using npm\n",
        "!npm install localtunnel\n"
      ]
    },
    {
      "cell_type": "code",
      "execution_count": null,
      "metadata": {
        "id": "2zG7lpBvDD-w"
      },
      "outputs": [],
      "source": [
        "# Run the Streamlit app in the background, redirecting both standard output and error to a log file\n",
        "##Use curl to create a public tunnel using localtunnel, accessing the generated tunnel with a specific password\n",
        "\n",
        "!streamlit run /content/app.py &>/content/logs.txt & curl https://loca.lt/mytunnelpassword"
      ]
    },
    {
      "cell_type": "code",
      "execution_count": null,
      "metadata": {
        "colab": {
          "base_uri": "https://localhost:8080/"
        },
        "id": "vIJNCAkkD3Jk",
        "outputId": "88ef4559-feda-417b-9ccf-b033450d17ad"
      },
      "outputs": [
        {
          "output_type": "stream",
          "name": "stdout",
          "text": [
            "\u001b[K\u001b[?25h^C\n"
          ]
        }
      ],
      "source": [
        "# Use npx to run localtunnel, creating a public tunnel for the specified port (8501 by default)\n",
        "!npx localtunnel --port 8501"
      ]
    },
    {
      "cell_type": "markdown",
      "metadata": {
        "id": "ohd8jSOWCozd"
      },
      "source": []
    }
  ],
  "metadata": {
    "colab": {
      "provenance": [],
      "authorship_tag": "ABX9TyPydaIDq+Hm1pkgYT8z4pMV",
      "include_colab_link": true
    },
    "kernelspec": {
      "display_name": "Python 3",
      "name": "python3"
    },
    "language_info": {
      "name": "python"
    }
  },
  "nbformat": 4,
  "nbformat_minor": 0
}