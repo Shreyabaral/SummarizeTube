{
  "cells": [
    {
      "cell_type": "markdown",
      "metadata": {
        "id": "view-in-github",
        "colab_type": "text"
      },
      "source": [
        "<a href=\"https://colab.research.google.com/github/Shreyabaral/SummarizeTube/blob/main/SummarizeTube.ipynb\" target=\"_parent\"><img src=\"https://colab.research.google.com/assets/colab-badge.svg\" alt=\"Open In Colab\"/></a>"
      ]
    },
    {
      "cell_type": "code",
      "execution_count": null,
      "metadata": {
        "id": "T5t6IQHlYOr7"
      },
      "outputs": [],
      "source": [
        "import os\n",
        "import streamlit as st\n",
        "from langchain.document_loaders import YoutubeLoader\n",
        "\n",
        "from youtube_transcript_api import YouTubeTranscriptApi\n",
        "from langchain.text_splitter import RecursiveCharacterTextSplitter\n",
        "from langchain.text_splitter import RecursiveCharacterTextSplitter\n",
        "from langchain.chains import LLMChain\n",
        "from langchain.chains.summarize import load_summarize_chain\n",
        "from langchain.llms import HuggingFacePipeline\n",
        "\n",
        "from transformers import AutoTokenizer, AutoModelForCausalLM, pipeline\n",
        "\n",
        "import torch\n",
        "\n",
        "import langchain\n",
        "print(langchain.__version__)"
      ]
    },
    {
      "cell_type": "code",
      "execution_count": null,
      "metadata": {
        "id": "GikIUo1TZRZZ"
      },
      "outputs": [],
      "source": [
        "#get the transcript from the video url\n",
        "def get_transcript(youtube_url):\n",
        "    try:\n",
        "        loader = YoutubeLoader.from_youtube_url(youtube_url)\n",
        "        transcript = loader.load()\n",
        "    except:\n",
        "            # If no transcript is found, raise an exceptionto-\n",
        "            raise Exception(\"No suitable transcript found.\")\n",
        "    return transcript"
      ]
    },
    {
      "cell_type": "code",
      "execution_count": null,
      "metadata": {
        "id": "nstF_agMbHdV"
      },
      "outputs": [],
      "source": [
        "transcript= get_transcript(\"https://www.youtube.com/watch?v=-CmadmM5cOk\")"
      ]
    },
    {
      "cell_type": "code",
      "execution_count": null,
      "metadata": {
        "id": "s4TrmsXjnP7e"
      },
      "outputs": [],
      "source": [
        "new_list= str(transcript).split('.')\n",
        "print(new_list)\n",
        "type(new_list)"
      ]
    },
    {
      "cell_type": "code",
      "execution_count": null,
      "metadata": {
        "id": "adI0yGGIx7I-"
      },
      "outputs": [],
      "source": [
        "!pip install huggingface_hub"
      ]
    },
    {
      "cell_type": "code",
      "execution_count": null,
      "metadata": {
        "id": "30qVLjFOyCD2"
      },
      "outputs": [],
      "source": [
        "# using the huggingface google/flan-t5-base to see its performance\n",
        "\n",
        "from langchain import HuggingFaceHub, LLMChain\n",
        "from langchain import PromptTemplate\n",
        "from transformers import BartForConditionalGeneration, BartTokenizer\n",
        "\n",
        "\n",
        "template = \"\"\"Summarize: {question}\n",
        "\n",
        "Answer: \"\"\"\n",
        "prompt = PromptTemplate(\n",
        "    template=template,\n",
        "\n",
        "    input_variables= [question]\n",
        ")\n",
        "\n",
        "# user question\n",
        "question = input(\"How can I help you today? : \")\n",
        "\n",
        "\n",
        "# initialize Hub LLM\n",
        "hub_llm = HuggingFaceHub(\n",
        "        repo_id='google/flan-t5-base',\n",
        "    model_kwargs={'temperature':1}\n",
        ")\n",
        "\n",
        "# create prompt template > LLM chain\n",
        "llm_chain = LLMChain(\n",
        "    prompt=prompt,\n",
        "    llm=hub_llm\n",
        ")\n",
        "\n",
        "# ask the user question about NFL 2010\n",
        "print(llm_chain.run(question))"
      ]
    },
    {
      "cell_type": "code",
      "execution_count": null,
      "metadata": {
        "id": "KcgNZDAtyORB"
      },
      "outputs": [],
      "source": [
        "#using transformers for summarisation task\n",
        "\n",
        "\n",
        "from transformers import BartForConditionalGeneration, BartTokenizer\n",
        "\n",
        "# Define the template\n",
        "template = \"\"\"Summarize: {question}\n",
        "\n",
        "Answer: {answer}\"\"\"\n",
        "\n",
        "# Define the question\n",
        "question = input(\"How can I help you today?\")\n",
        "\n",
        "# Load the model and tokenizer\n",
        "model_name = \"facebook/bart-large-cnn\"\n",
        "tokenizer = BartTokenizer.from_pretrained(model_name)\n",
        "model = BartForConditionalGeneration.from_pretrained(model_name)\n",
        "\n",
        "# Tokenize the input question\n",
        "input_ids = tokenizer.encode(question, return_tensors=\"pt\", max_length=1024, truncation=True)\n",
        "\n",
        "# Generate the summary\n",
        "summary_ids = model.generate(input_ids, max_length=150, num_beams=4, length_penalty=2.0, early_stopping=True)\n",
        "summary = tokenizer.decode(summary_ids[0], skip_special_tokens=True)\n",
        "\n",
        "# Substitute the question and answer in the template\n",
        "filled_template = template.format(question=question, answer=summary)\n",
        "\n",
        "# Print the result\n",
        "print(summary)"
      ]
    },
    {
      "cell_type": "code",
      "execution_count": null,
      "metadata": {
        "id": "1uE8xqv47s4r"
      },
      "outputs": [],
      "source": [
        "#Using Stremlit for UI"
      ]
    },
    {
      "cell_type": "code",
      "execution_count": null,
      "metadata": {
        "id": "wexOeNCyCufx"
      },
      "outputs": [],
      "source": [
        "%%writefile app.py\n",
        "\n",
        "#import necessary libraries\n",
        "import streamlit as st\n",
        "from transformers import pipeline\n",
        "from transformers import BartForConditionalGeneration, BartTokenizer\n",
        "\n",
        "#define main function for streamlit\n",
        "def main():\n",
        "    st.title(\"Your video summariser\").  #set title for streamlit\n",
        "\n",
        "    # Create a text input for user messages\n",
        "    question = st.text_input(\"You:\", \"\").  #get the youtube video URL\n",
        "\n",
        "    if question:                           #checks if user has entered the question\n",
        "        # Generate a response\n",
        "        response = generate_response(question).        # generates the response base on defined function\n",
        "\n",
        "        # Display the bot's response\n",
        "        st.text_area(\"Bot:\", response, height=100).     #Displays the response in text area\n",
        "\n",
        "\n",
        "#fucntion to genrate the response using  Language Model\n",
        "def generate_response(question):\n",
        "\n",
        "    # Define the template for formatting response\n",
        "    template = \"\"\"summarize_with_langchain_and_openai {question}\n",
        "\n",
        "    Answer: {answer}\"\"\"\n",
        "\n",
        "\n",
        "    # set the input\n",
        "    question = question\n",
        "\n",
        "    # Load the pre-trained model and tokenizer\n",
        "    model_name = \"facebook/bart-large-cnn\"\n",
        "    tokenizer = BartTokenizer.from_pretrained(model_name)\n",
        "    model = BartForConditionalGeneration.from_pretrained(model_name)\n",
        "\n",
        "    # Tokenize the input question\n",
        "    input_ids = tokenizer.encode(question, return_tensors=\"pt\", max_length=1500, truncation=True)\n",
        "\n",
        "    # Generate the summary using the model\n",
        "    summary_ids = model.generate(input_ids, max_length=500, num_beams=4, length_penalty=1.0, early_stopping=True)\n",
        "    summary = tokenizer.decode(summary_ids[0], skip_special_tokens=True)\n",
        "\n",
        "    return summary\n",
        "\n",
        "if __name__ == \"__main__\":\n",
        "    main()\n",
        "\n"
      ]
    },
    {
      "cell_type": "code",
      "execution_count": null,
      "metadata": {
        "id": "uRPZcMnlC8WO"
      },
      "outputs": [],
      "source": [
        "## Install the 'localtunnel' package using npm\n",
        "!npm install localtunnel\n"
      ]
    },
    {
      "cell_type": "code",
      "execution_count": null,
      "metadata": {
        "id": "2zG7lpBvDD-w"
      },
      "outputs": [],
      "source": [
        "# Run the Streamlit app in the background, redirecting both standard output and error to a log file\n",
        "##Use curl to create a public tunnel using localtunnel, accessing the generated tunnel with a specific password\n",
        "\n",
        "!streamlit run /content/app.py &>/content/logs.txt & curl https://loca.lt/mytunnelpassword"
      ]
    },
    {
      "cell_type": "code",
      "execution_count": null,
      "metadata": {
        "colab": {
          "base_uri": "https://localhost:8080/"
        },
        "id": "vIJNCAkkD3Jk",
        "outputId": "88ef4559-feda-417b-9ccf-b033450d17ad"
      },
      "outputs": [
        {
          "output_type": "stream",
          "name": "stdout",
          "text": [
            "\u001b[K\u001b[?25h^C\n"
          ]
        }
      ],
      "source": [
        "# Use npx to run localtunnel, creating a public tunnel for the specified port (8501 by default)\n",
        "!npx localtunnel --port 8501"
      ]
    },
    {
      "cell_type": "code",
      "source": [
        "#cohere implementation"
      ],
      "metadata": {
        "id": "ohKQ1W6Lpcgw"
      },
      "execution_count": 1,
      "outputs": []
    },
    {
      "cell_type": "code",
      "source": [
        "pip install cohere"
      ],
      "metadata": {
        "colab": {
          "base_uri": "https://localhost:8080/"
        },
        "id": "3O6FM1SbqLXY",
        "outputId": "771d2a1f-3497-4dcc-ad1e-9be330b8d3dc"
      },
      "execution_count": 4,
      "outputs": [
        {
          "output_type": "stream",
          "name": "stdout",
          "text": [
            "Collecting cohere\n",
            "  Downloading cohere-4.52-py3-none-any.whl (52 kB)\n",
            "\u001b[2K     \u001b[90m━━━━━━━━━━━━━━━━━━━━━━━━━━━━━━━━━━━━━━━━\u001b[0m \u001b[32m52.0/52.0 kB\u001b[0m \u001b[31m1.4 MB/s\u001b[0m eta \u001b[36m0:00:00\u001b[0m\n",
            "\u001b[?25hRequirement already satisfied: aiohttp<4.0,>=3.0 in /usr/local/lib/python3.10/dist-packages (from cohere) (3.9.3)\n",
            "Collecting backoff<3.0,>=2.0 (from cohere)\n",
            "  Downloading backoff-2.2.1-py3-none-any.whl (15 kB)\n",
            "Collecting fastavro<2.0,>=1.8 (from cohere)\n",
            "  Downloading fastavro-1.9.4-cp310-cp310-manylinux_2_17_x86_64.manylinux2014_x86_64.whl (3.1 MB)\n",
            "\u001b[2K     \u001b[90m━━━━━━━━━━━━━━━━━━━━━━━━━━━━━━━━━━━━━━━━\u001b[0m \u001b[32m3.1/3.1 MB\u001b[0m \u001b[31m31.8 MB/s\u001b[0m eta \u001b[36m0:00:00\u001b[0m\n",
            "\u001b[?25hCollecting importlib_metadata<7.0,>=6.0 (from cohere)\n",
            "  Downloading importlib_metadata-6.11.0-py3-none-any.whl (23 kB)\n",
            "Requirement already satisfied: requests<3.0.0,>=2.25.0 in /usr/local/lib/python3.10/dist-packages (from cohere) (2.31.0)\n",
            "Requirement already satisfied: urllib3<3,>=1.26 in /usr/local/lib/python3.10/dist-packages (from cohere) (2.0.7)\n",
            "Requirement already satisfied: aiosignal>=1.1.2 in /usr/local/lib/python3.10/dist-packages (from aiohttp<4.0,>=3.0->cohere) (1.3.1)\n",
            "Requirement already satisfied: attrs>=17.3.0 in /usr/local/lib/python3.10/dist-packages (from aiohttp<4.0,>=3.0->cohere) (23.2.0)\n",
            "Requirement already satisfied: frozenlist>=1.1.1 in /usr/local/lib/python3.10/dist-packages (from aiohttp<4.0,>=3.0->cohere) (1.4.1)\n",
            "Requirement already satisfied: multidict<7.0,>=4.5 in /usr/local/lib/python3.10/dist-packages (from aiohttp<4.0,>=3.0->cohere) (6.0.5)\n",
            "Requirement already satisfied: yarl<2.0,>=1.0 in /usr/local/lib/python3.10/dist-packages (from aiohttp<4.0,>=3.0->cohere) (1.9.4)\n",
            "Requirement already satisfied: async-timeout<5.0,>=4.0 in /usr/local/lib/python3.10/dist-packages (from aiohttp<4.0,>=3.0->cohere) (4.0.3)\n",
            "Requirement already satisfied: zipp>=0.5 in /usr/local/lib/python3.10/dist-packages (from importlib_metadata<7.0,>=6.0->cohere) (3.17.0)\n",
            "Requirement already satisfied: charset-normalizer<4,>=2 in /usr/local/lib/python3.10/dist-packages (from requests<3.0.0,>=2.25.0->cohere) (3.3.2)\n",
            "Requirement already satisfied: idna<4,>=2.5 in /usr/local/lib/python3.10/dist-packages (from requests<3.0.0,>=2.25.0->cohere) (3.6)\n",
            "Requirement already satisfied: certifi>=2017.4.17 in /usr/local/lib/python3.10/dist-packages (from requests<3.0.0,>=2.25.0->cohere) (2024.2.2)\n",
            "Installing collected packages: importlib_metadata, fastavro, backoff, cohere\n",
            "  Attempting uninstall: importlib_metadata\n",
            "    Found existing installation: importlib-metadata 7.0.1\n",
            "    Uninstalling importlib-metadata-7.0.1:\n",
            "      Successfully uninstalled importlib-metadata-7.0.1\n",
            "Successfully installed backoff-2.2.1 cohere-4.52 fastavro-1.9.4 importlib_metadata-6.11.0\n"
          ]
        }
      ]
    },
    {
      "cell_type": "code",
      "source": [
        "import cohere\n",
        "co = cohere.Client('#####') # This is your trial API key\n",
        "\n",
        "text='''(seagulls squawking)\n",
        "\n",
        "(guitar strumming)\n",
        "\n",
        "(guitar strumming)\n",
        "\n",
        "♪ Midnight ♪\n",
        "♪ You come and pick me up, no headlights ♪\n",
        "\n",
        "♪ Long drive ♪\n",
        "♪ Could end in burning flames or paradise ♪\n",
        "\n",
        "♪ Fade into view ♪\n",
        "♪ Oh, it's been a while since I have even heard from you ♪\n",
        "\n",
        "♪ Heard from you ♪\n",
        "♪ I should just tell you to leave, 'cause I ♪\n",
        "♪ Know exactly where it leads, but I ♪\n",
        "♪ Watch us go 'round and 'round each time ♪\n",
        "♪ You got that James Dean day dream look in your eye ♪\n",
        "\n",
        "♪ And I got that red lip classic thing that you like ♪\n",
        "♪ And when we go crashing down, we come back every time ♪\n",
        "♪ 'Cause we never go out of style ♪\n",
        "♪ We never go out of style ♪\n",
        "♪ You got that long hair, slicked back, white t-shirt ♪\n",
        "♪ And I got that good girl faith and a tight little skirt ♪\n",
        "\n",
        "♪ And when we go crashing down, we come back every time ♪\n",
        "\n",
        "♪ 'Cause we never go out of style ♪\n",
        "♪ We never go out of style ♪\n",
        "♪ So it goes ♪\n",
        "♪ He can't keep his wild eyes on the road ♪\n",
        "\n",
        "♪ Takes me home ♪\n",
        "♪ Lights are off, he's taking off his coat ♪\n",
        "\n",
        "♪ I say, I heard ♪\n",
        "♪ Oh, that you been out and about with some other girl ♪\n",
        "\n",
        "♪ Some other girl ♪\n",
        "♪ He says, what you've heard is true, but I ♪\n",
        "♪ Can't stop thinking about you, and I ♪\n",
        "♪ I said, I've been there too a few times ♪\n",
        "♪ 'Cause you got that James Dean day dream look in your eyes ♪\n",
        "\n",
        "♪ And I got that red lip classic thing that you like ♪\n",
        "♪ And when we go crashing down, we come back every time ♪\n",
        "\n",
        "♪ 'Cause we never go out of style ♪\n",
        "♪ We never go out of style ♪\n",
        "♪ You got that long hair, slicked back, white t-shirt ♪\n",
        "♪ And I got that good girl faith and a tight little skirt ♪\n",
        "♪ Tight little skirt ♪\n",
        "♪ And when we go crashing down, we come back every time ♪\n",
        "♪ 'Cause we never go out of style ♪\n",
        "♪ We never go out of style ♪\n",
        "♪ Take me home ♪\n",
        "♪ Just take me home ♪\n",
        "♪ Yeah ♪\n",
        "♪ Just take me home ♪\n",
        "♪ Oh, whoa, oh ♪\n",
        "\n",
        "♪ Out of style ♪\n",
        "♪ Oh, you got that James Dean day dream look in your eye ♪\n",
        "\n",
        "♪ And I got that red lip classic thing that you like ♪\n",
        "♪ And when we go crashing down, we come back every time ♪\n",
        "\n",
        "♪ 'Cause we never go out of style ♪\n",
        "♪ We never go out of style ♪'''\n",
        "\n",
        "response = co.summarize(\n",
        "  text=text,\n",
        "  length='auto',\n",
        "  format='auto',\n",
        "  model='command',\n",
        "  additional_command='Give me summary in five bullet points',\n",
        "  temperature=0.3,\n",
        ")\n",
        "print('Summary:', response.summary)"
      ],
      "metadata": {
        "colab": {
          "base_uri": "https://localhost:8080/"
        },
        "id": "Czce6FitpcoT",
        "outputId": "cd938eaa-e484-4973-ef15-073c1a185c43"
      },
      "execution_count": 10,
      "outputs": [
        {
          "output_type": "stream",
          "name": "stdout",
          "text": [
            "Summary: - The lyrics describe a problematic but thrilling relationship where the couple are attracted to each other despite knowing the relationship might crash and burn.\n",
            "- The song makes references to iconic 1950s movie star James Dean and the classic style of that time period. \n",
            "- The song repeats the line 'We never go out of style' as a testament to the strength of the relationship despite its flaws. \n",
            "- The singer asks to be taken home at the end of the song, implying a desire to escape the relationship despite still being drawn to the other person. \n",
            "- The song is performed with a catchy, repeating melody and a poppy production style. In the context of the album, the song can be interpreted as the climax of the story it tells, a turning point where the main character decides to confront their destructive tendencies and move forward in a more positive direction.\n"
          ]
        }
      ]
    },
    {
      "cell_type": "markdown",
      "metadata": {
        "id": "ohd8jSOWCozd"
      },
      "source": []
    }
  ],
  "metadata": {
    "colab": {
      "provenance": [],
      "authorship_tag": "ABX9TyPAm/z30o0bRlleLeuhgf6x",
      "include_colab_link": true
    },
    "kernelspec": {
      "display_name": "Python 3",
      "name": "python3"
    },
    "language_info": {
      "name": "python"
    }
  },
  "nbformat": 4,
  "nbformat_minor": 0
}